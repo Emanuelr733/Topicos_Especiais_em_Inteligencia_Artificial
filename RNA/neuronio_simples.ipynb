{
 "cells": [
  {
   "cell_type": "markdown",
   "id": "8893fb47",
   "metadata": {},
   "source": [
    "# Atividade: Neurônio Artificial\n",
    "\n",
    "**INSTITUTO FEDERAL DE MINAS GERAIS**\n",
    "*Departamento de Engenharia e Computação*\n",
    "\n",
    "**Professor:** Ciniro Nametala  \n",
    "**Aluno:** Emanuel Rocha"
   ]
  },
  {
   "cell_type": "code",
   "execution_count": null,
   "id": "4bc0871b",
   "metadata": {},
   "outputs": [],
   "source": [
    "#Importando bibliotecas\n",
    "import numpy as np\n",
    "import pandas as pd\n",
    "import matplotlib.pyplot as plt"
   ]
  },
  {
   "cell_type": "code",
   "execution_count": null,
   "id": "a27565da",
   "metadata": {},
   "outputs": [],
   "source": [
    "#Função do neuronio\n",
    "def neuronio(x1,x2,w0,w1,w2,bias):\n",
    "    u=(w1*x1)+(w2*x2)-(w0*bias)\n",
    "    return 1 if u>0 else 0"
   ]
  },
  {
   "cell_type": "code",
   "execution_count": null,
   "id": "1d10e9c5",
   "metadata": {},
   "outputs": [
    {
     "data": {
      "application/vnd.microsoft.datawrangler.viewer.v0+json": {
       "columns": [
        {
         "name": "index",
         "rawType": "int64",
         "type": "integer"
        },
        {
         "name": "x",
         "rawType": "float64",
         "type": "float"
        },
        {
         "name": "y",
         "rawType": "float64",
         "type": "float"
        }
       ],
       "ref": "46a757a4-c5db-42a5-b0ee-36ae7b64cb51",
       "rows": [
        [
         "0",
         "1.18398790740307",
         "1.83287999771689"
        ],
        [
         "1",
         "1.52356516357191",
         "2.29333685523262"
        ],
        [
         "2",
         "2.19924087622042",
         "2.34288018532788"
        ],
        [
         "3",
         "2.76805184861864",
         "2.17913556946165"
        ],
        [
         "4",
         "2.16537433370448",
         "1.88844541988585"
        ]
       ],
       "shape": {
        "columns": 2,
        "rows": 5
       }
      },
      "text/html": [
       "<div>\n",
       "<style scoped>\n",
       "    .dataframe tbody tr th:only-of-type {\n",
       "        vertical-align: middle;\n",
       "    }\n",
       "\n",
       "    .dataframe tbody tr th {\n",
       "        vertical-align: top;\n",
       "    }\n",
       "\n",
       "    .dataframe thead th {\n",
       "        text-align: right;\n",
       "    }\n",
       "</style>\n",
       "<table border=\"1\" class=\"dataframe\">\n",
       "  <thead>\n",
       "    <tr style=\"text-align: right;\">\n",
       "      <th></th>\n",
       "      <th>x</th>\n",
       "      <th>y</th>\n",
       "    </tr>\n",
       "  </thead>\n",
       "  <tbody>\n",
       "    <tr>\n",
       "      <th>0</th>\n",
       "      <td>1.183988</td>\n",
       "      <td>1.832880</td>\n",
       "    </tr>\n",
       "    <tr>\n",
       "      <th>1</th>\n",
       "      <td>1.523565</td>\n",
       "      <td>2.293337</td>\n",
       "    </tr>\n",
       "    <tr>\n",
       "      <th>2</th>\n",
       "      <td>2.199241</td>\n",
       "      <td>2.342880</td>\n",
       "    </tr>\n",
       "    <tr>\n",
       "      <th>3</th>\n",
       "      <td>2.768052</td>\n",
       "      <td>2.179136</td>\n",
       "    </tr>\n",
       "    <tr>\n",
       "      <th>4</th>\n",
       "      <td>2.165374</td>\n",
       "      <td>1.888445</td>\n",
       "    </tr>\n",
       "  </tbody>\n",
       "</table>\n",
       "</div>"
      ],
      "text/plain": [
       "          x         y\n",
       "0  1.183988  1.832880\n",
       "1  1.523565  2.293337\n",
       "2  2.199241  2.342880\n",
       "3  2.768052  2.179136\n",
       "4  2.165374  1.888445"
      ]
     },
     "execution_count": 125,
     "metadata": {},
     "output_type": "execute_result"
    }
   ],
   "source": [
    "#Transportando dados do arquivo para os vetores\n",
    "dados=pd.read_csv('amostrabivariada.csv',sep=';',decimal=',')\n",
    "dados['x']=pd.to_numeric(dados['x'],errors='coerce')\n",
    "dados['y']=pd.to_numeric(dados['y'],errors='coerce')\n",
    "dados.head()"
   ]
  },
  {
   "cell_type": "code",
   "execution_count": null,
   "id": "8cce9019",
   "metadata": {},
   "outputs": [
    {
     "data": {
      "image/png": "[encoded data removed]",
      "text/plain": [
       "<Figure size 400x400 with 1 Axes>"
      ]
     },
     "metadata": {},
     "output_type": "display_data"
    }
   ],
   "source": [
    "#Plotando os dados\n",
    "plt.figure(figsize=(4,4))\n",
    "plt.scatter(dados['x'],dados['y'],c='black',s=10)\n",
    "plt.xlim(0,6)\n",
    "plt.ylim(0,6)\n",
    "plt.xlabel('x')\n",
    "plt.ylabel('y')\n",
    "plt.grid(True,alpha=0.3)\n",
    "plt.show()"
   ]
  },
  {
   "cell_type": "code",
   "execution_count": 131,
   "id": "85d94c84",
   "metadata": {},
   "outputs": [
    {
     "data": {
      "application/vnd.microsoft.datawrangler.viewer.v0+json": {
       "columns": [
        {
         "name": "index",
         "rawType": "int64",
         "type": "integer"
        },
        {
         "name": "x",
         "rawType": "float64",
         "type": "float"
        },
        {
         "name": "y",
         "rawType": "float64",
         "type": "float"
        },
        {
         "name": "classe",
         "rawType": "int64",
         "type": "integer"
        }
       ],
       "ref": "55f7f0ed-eded-4666-a762-c19af8c4f032",
       "rows": [
        [
         "0",
         "1.18398790740307",
         "1.83287999771689",
         "1"
        ],
        [
         "1",
         "1.52356516357191",
         "2.29333685523262",
         "1"
        ],
        [
         "2",
         "2.19924087622042",
         "2.34288018532788",
         "1"
        ],
        [
         "3",
         "2.76805184861864",
         "2.17913556946165",
         "1"
        ],
        [
         "4",
         "2.16537433370448",
         "1.88844541988585",
         "1"
        ]
       ],
       "shape": {
        "columns": 3,
        "rows": 5
       }
      },
      "text/html": [
       "<div>\n",
       "<style scoped>\n",
       "    .dataframe tbody tr th:only-of-type {\n",
       "        vertical-align: middle;\n",
       "    }\n",
       "\n",
       "    .dataframe tbody tr th {\n",
       "        vertical-align: top;\n",
       "    }\n",
       "\n",
       "    .dataframe thead th {\n",
       "        text-align: right;\n",
       "    }\n",
       "</style>\n",
       "<table border=\"1\" class=\"dataframe\">\n",
       "  <thead>\n",
       "    <tr style=\"text-align: right;\">\n",
       "      <th></th>\n",
       "      <th>x</th>\n",
       "      <th>y</th>\n",
       "      <th>classe</th>\n",
       "    </tr>\n",
       "  </thead>\n",
       "  <tbody>\n",
       "    <tr>\n",
       "      <th>0</th>\n",
       "      <td>1.183988</td>\n",
       "      <td>1.832880</td>\n",
       "      <td>1</td>\n",
       "    </tr>\n",
       "    <tr>\n",
       "      <th>1</th>\n",
       "      <td>1.523565</td>\n",
       "      <td>2.293337</td>\n",
       "      <td>1</td>\n",
       "    </tr>\n",
       "    <tr>\n",
       "      <th>2</th>\n",
       "      <td>2.199241</td>\n",
       "      <td>2.342880</td>\n",
       "      <td>1</td>\n",
       "    </tr>\n",
       "    <tr>\n",
       "      <th>3</th>\n",
       "      <td>2.768052</td>\n",
       "      <td>2.179136</td>\n",
       "      <td>1</td>\n",
       "    </tr>\n",
       "    <tr>\n",
       "      <th>4</th>\n",
       "      <td>2.165374</td>\n",
       "      <td>1.888445</td>\n",
       "      <td>1</td>\n",
       "    </tr>\n",
       "  </tbody>\n",
       "</table>\n",
       "</div>"
      ],
      "text/plain": [
       "          x         y  classe\n",
       "0  1.183988  1.832880       1\n",
       "1  1.523565  2.293337       1\n",
       "2  2.199241  2.342880       1\n",
       "3  2.768052  2.179136       1\n",
       "4  2.165374  1.888445       1"
      ]
     },
     "execution_count": 131,
     "metadata": {},
     "output_type": "execute_result"
    }
   ],
   "source": [
    "#valores para pesos\n",
    "w0=-6\n",
    "w1=-1\n",
    "w2=-1\n",
    "bias=1\n",
    "\n",
    "#aplicando a função neuronio aos dados\n",
    "classificacoes=[]\n",
    "for i, linha in dados.iterrows():\n",
    "    classe=neuronio(linha['x'],linha['y'],w0,w1,w2,bias)\n",
    "    classificacoes.append(classe)\n",
    "\n",
    "dados['classe'] = classificacoes\n",
    "dados.head()"
   ]
  },
  {
   "cell_type": "code",
   "execution_count": 132,
   "id": "29998b99",
   "metadata": {},
   "outputs": [
    {
     "data": {
      "image/png": "[encoded data removed]",
      "text/plain": [
       "<Figure size 1000x1000 with 1 Axes>"
      ]
     },
     "metadata": {},
     "output_type": "display_data"
    }
   ],
   "source": [
    "plt.figure(figsize=(10,10))\n",
    "cores=['blue' if c==0 else 'green' for c in dados['classe']]\n",
    "plt.scatter(dados['x'],dados['y'],c=cores,s=10)\n",
    "\n",
    "#gerando a reta de separacao\n",
    "eixox=np.linspace(0,6,100)\n",
    "eixoy=(w0*-1)-eixox\n",
    "plt.plot(eixox,eixoy,'r-',linewidth=1)\n",
    "\n",
    "plt.xlim(0,6)\n",
    "plt.ylim(0,6)\n",
    "plt.xlabel('x')\n",
    "plt.ylabel('y')\n",
    "plt.grid(True,alpha=0.3)\n",
    "plt.show()"
   ]
  }
 ],
 "metadata": {
  "kernelspec": {
   "display_name": "Python 3",
   "language": "python",
   "name": "python3"
  },
  "language_info": {
   "codemirror_mode": {
    "name": "ipython",
    "version": 3
   },
   "file_extension": ".py",
   "mimetype": "text/x-python",
   "name": "python",
   "nbconvert_exporter": "python",
   "pygments_lexer": "ipython3",
   "version": "3.13.7"
  }
 },
 "nbformat": 4,
 "nbformat_minor": 5
}

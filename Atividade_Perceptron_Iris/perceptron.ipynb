{
 "cells": [
  {
   "cell_type": "markdown",
   "metadata": {},
   "source": [
    "## Importações"
   ]
  },
  {
   "cell_type": "code",
   "execution_count": 1,
   "metadata": {
    "executionInfo": {
     "elapsed": 2,
     "status": "ok",
     "timestamp": 1759499292840,
     "user": {
      "displayName": "Astronomic Cuts",
      "userId": "07519333501481638317"
     },
     "user_tz": 180
    },
    "id": "EnKWDiO9w1QU"
   },
   "outputs": [],
   "source": [
    "#importacao de pacotes\n",
    "import numpy as np\n",
    "import pandas as pd\n",
    "import pygwalker as pyg\n",
    "import matplotlib.pyplot as plt\n",
    "from sklearn.metrics import confusion_matrix, classification_report\n",
    "import seaborn as sns\n",
    "import plotly.graph_objects as go"
   ]
  },
  {
   "cell_type": "markdown",
   "metadata": {},
   "source": [
    "## Funções"
   ]
  },
  {
   "cell_type": "code",
   "execution_count": 2,
   "metadata": {
    "executionInfo": {
     "elapsed": 4,
     "status": "ok",
     "timestamp": 1759499292850,
     "user": {
      "displayName": "Astronomic Cuts",
      "userId": "07519333501481638317"
     },
     "user_tz": 180
    },
    "id": "fyty813L4PYu"
   },
   "outputs": [],
   "source": [
    "#funcao degau bipolar\n",
    "def bipolar(u):\n",
    "    return np.where(u >= 0, 1, -1)\n",
    "\n",
    "#funcao que classifica a amostra com base na rede ja treinada\n",
    "def previsao(w,x):\n",
    "  u=np.dot(w.T,x)\n",
    "  yhat=bipolar(u)\n",
    "  return yhat"
   ]
  },
  {
   "cell_type": "markdown",
   "metadata": {
    "id": "ELKLEhQg5_xx"
   },
   "source": [
    "# IMPLEMENTAÇÃO DO PERCEPTRON"
   ]
  },
  {
   "cell_type": "code",
   "execution_count": 3,
   "metadata": {
    "executionInfo": {
     "elapsed": 2,
     "status": "ok",
     "timestamp": 1759499292855,
     "user": {
      "displayName": "Astronomic Cuts",
      "userId": "07519333501481638317"
     },
     "user_tz": 180
    },
    "id": "UlJHoSoM6LrL"
   },
   "outputs": [],
   "source": [
    "#PASSO 1: OBTER O CONJUNTO DE AMOSTRAS DE TREINAMENTO X\n",
    "#carregar tabela de dados\n",
    "dados = pd.read_csv(\"dataset.csv\", sep=\";\")\n",
    "\n",
    "#analise exploratoria de dados\n",
    "#walker=pyg.walk(dados)"
   ]
  },
  {
   "cell_type": "code",
   "execution_count": 4,
   "metadata": {
    "colab": {
     "base_uri": "https://localhost:8080/"
    },
    "executionInfo": {
     "elapsed": 12,
     "status": "ok",
     "timestamp": 1759499292869,
     "user": {
      "displayName": "Astronomic Cuts",
      "userId": "07519333501481638317"
     },
     "user_tz": 180
    },
    "id": "_exRHjls744N",
    "outputId": "7e4b538a-c4d1-4f85-b491-7c18f947725e"
   },
   "outputs": [
    {
     "name": "stdout",
     "output_type": "stream",
     "text": [
      "30\n",
      "3\n",
      "[[-0.6508  0.1097  4.0009]\n",
      " [-1.4492  0.8896  4.4005]\n",
      " [ 2.085   0.6876 12.071 ]\n",
      " [ 0.2626  1.1476  7.7985]\n",
      " [ 0.6418  1.0234  7.0427]\n",
      " [ 0.2569  0.673   8.3265]\n",
      " [ 1.1155  0.6043  7.4446]\n",
      " [ 0.0914  0.3399  7.0677]\n",
      " [ 0.0121  0.5256  4.6316]\n",
      " [-0.0429  0.466   5.4323]\n",
      " [ 0.434   0.687   8.2287]\n",
      " [ 0.2735  1.0287  7.1934]\n",
      " [ 0.4839  0.4851  7.485 ]\n",
      " [ 0.4089 -0.1267  5.5019]\n",
      " [ 1.4391  0.1614  8.5843]\n",
      " [-0.9115 -0.1973  2.1962]\n",
      " [ 0.3654  1.0475  7.4858]\n",
      " [ 0.2144  0.7515  7.1699]\n",
      " [ 0.2013  1.0014  6.5489]\n",
      " [ 0.6483  0.2183  5.8991]\n",
      " [-0.1147  0.2242  7.2435]\n",
      " [-0.797   0.8795  3.8762]\n",
      " [-1.0625  0.6366  2.4707]\n",
      " [ 0.5307  0.1285  5.6883]\n",
      " [-1.22    0.7777  1.7252]\n",
      " [ 0.3957  0.1076  5.6623]\n",
      " [-0.1013  0.5989  7.1812]\n",
      " [ 2.4482  0.9455 11.2095]\n",
      " [ 2.0149  0.6192 10.9263]\n",
      " [ 0.2012  0.2611  5.4631]]\n"
     ]
    }
   ],
   "source": [
    "#quantidade de elementos na amostra\n",
    "n_amostras=dados.shape[0]\n",
    "print(n_amostras)\n",
    "\n",
    "#quantidade variaveis de entrada(subrair a coluna de tipo)\n",
    "n_variaveis=dados.shape[1]-1\n",
    "print(n_variaveis)\n",
    "\n",
    "#separando os dados contendo apenas as variaveis de entrada\n",
    "x=dados.iloc[:,0:n_variaveis].values\n",
    "print(x)"
   ]
  },
  {
   "cell_type": "code",
   "execution_count": 5,
   "metadata": {
    "colab": {
     "base_uri": "https://localhost:8080/"
    },
    "executionInfo": {
     "elapsed": 34,
     "status": "ok",
     "timestamp": 1759499292905,
     "user": {
      "displayName": "Astronomic Cuts",
      "userId": "07519333501481638317"
     },
     "user_tz": 180
    },
    "id": "Fr0xMzF49c_g",
    "outputId": "3b4fd904-5f6a-4a6b-f189-eceffd5c5e2b"
   },
   "outputs": [
    {
     "name": "stdout",
     "output_type": "stream",
     "text": [
      "[[-0.6508  0.1097  4.0009 -1.    ]\n",
      " [-1.4492  0.8896  4.4005 -1.    ]\n",
      " [ 2.085   0.6876 12.071  -1.    ]\n",
      " [ 0.2626  1.1476  7.7985 -1.    ]\n",
      " [ 0.6418  1.0234  7.0427 -1.    ]\n",
      " [ 0.2569  0.673   8.3265 -1.    ]\n",
      " [ 1.1155  0.6043  7.4446 -1.    ]\n",
      " [ 0.0914  0.3399  7.0677 -1.    ]\n",
      " [ 0.0121  0.5256  4.6316 -1.    ]\n",
      " [-0.0429  0.466   5.4323 -1.    ]\n",
      " [ 0.434   0.687   8.2287 -1.    ]\n",
      " [ 0.2735  1.0287  7.1934 -1.    ]\n",
      " [ 0.4839  0.4851  7.485  -1.    ]\n",
      " [ 0.4089 -0.1267  5.5019 -1.    ]\n",
      " [ 1.4391  0.1614  8.5843 -1.    ]\n",
      " [-0.9115 -0.1973  2.1962 -1.    ]\n",
      " [ 0.3654  1.0475  7.4858 -1.    ]\n",
      " [ 0.2144  0.7515  7.1699 -1.    ]\n",
      " [ 0.2013  1.0014  6.5489 -1.    ]\n",
      " [ 0.6483  0.2183  5.8991 -1.    ]\n",
      " [-0.1147  0.2242  7.2435 -1.    ]\n",
      " [-0.797   0.8795  3.8762 -1.    ]\n",
      " [-1.0625  0.6366  2.4707 -1.    ]\n",
      " [ 0.5307  0.1285  5.6883 -1.    ]\n",
      " [-1.22    0.7777  1.7252 -1.    ]\n",
      " [ 0.3957  0.1076  5.6623 -1.    ]\n",
      " [-0.1013  0.5989  7.1812 -1.    ]\n",
      " [ 2.4482  0.9455 11.2095 -1.    ]\n",
      " [ 2.0149  0.6192 10.9263 -1.    ]\n",
      " [ 0.2012  0.2611  5.4631 -1.    ]]\n"
     ]
    }
   ],
   "source": [
    "#inserindo o bias\n",
    "bias=np.ones((n_amostras,1))*-1\n",
    "x=np.hstack((x,bias))\n",
    "print(x)"
   ]
  },
  {
   "cell_type": "code",
   "execution_count": 6,
   "metadata": {
    "colab": {
     "base_uri": "https://localhost:8080/"
    },
    "executionInfo": {
     "elapsed": 15,
     "status": "ok",
     "timestamp": 1759499292920,
     "user": {
      "displayName": "Astronomic Cuts",
      "userId": "07519333501481638317"
     },
     "user_tz": 180
    },
    "id": "Q0QrrR9d_I8I",
    "outputId": "6e01184c-5e8b-4406-ac47-5c819c497a1a"
   },
   "outputs": [
    {
     "name": "stdout",
     "output_type": "stream",
     "text": [
      "[-1. -1. -1.  1.  1. -1.  1. -1.  1.  1. -1.  1. -1. -1. -1. -1.  1.  1.\n",
      "  1.  1. -1.  1.  1.  1.  1. -1. -1.  1. -1.  1.]\n",
      "-1: 14\n",
      "1: 16\n"
     ]
    }
   ],
   "source": [
    "#PASSO 2: DO VETOR DE SAIDAS Y, ASSOCIAR A SAIDA ESPERADA Y PARA CADA X\n",
    "y=dados.iloc[:,n_variaveis].values\n",
    "print(y)\n",
    "\n",
    "#contar quantas amostras de cada classe existem no dataset\n",
    "print(f\"-1: {(y==-1).sum()}\")\n",
    "print(f\"1: {(y==1).sum()}\")"
   ]
  },
  {
   "cell_type": "code",
   "execution_count": 7,
   "metadata": {
    "colab": {
     "base_uri": "https://localhost:8080/"
    },
    "executionInfo": {
     "elapsed": 9,
     "status": "ok",
     "timestamp": 1759499292930,
     "user": {
      "displayName": "Astronomic Cuts",
      "userId": "07519333501481638317"
     },
     "user_tz": 180
    },
    "id": "veVeRQI5AAaP",
    "outputId": "e24be168-6957-45c2-d4d4-da2d062fe171"
   },
   "outputs": [
    {
     "name": "stdout",
     "output_type": "stream",
     "text": [
      "[ 0.89146145  0.85446842 -0.50165603 -0.61629626]\n"
     ]
    }
   ],
   "source": [
    "#PASSO 3: INICIALIZAR O VETOR DE PESOS W COM VALORES ALEATORIOS\n",
    "w=np.random.uniform(-1,1,n_variaveis+1)\n",
    "print(w)"
   ]
  },
  {
   "cell_type": "code",
   "execution_count": 8,
   "metadata": {
    "executionInfo": {
     "elapsed": 7,
     "status": "ok",
     "timestamp": 1759499292933,
     "user": {
      "displayName": "Astronomic Cuts",
      "userId": "07519333501481638317"
     },
     "user_tz": 180
    },
    "id": "QyfZNC-EAmTH"
   },
   "outputs": [],
   "source": [
    "#PASSO 4: DEFINIR A TAXA DE APRENDIZAGEM COM VALOR ENTRE 0 E 1\n",
    "#taxa de aprendizagem eta\n",
    "eta=0.01\n",
    "\n",
    "#PASSO 5: CALCULAR O NUMERO DE AMOSTRAS EM X\n",
    "#ja foi feito e esta em n_amostras\n",
    "\n",
    "#PASSO 6: DEFINIR A TOLERANCIA AO ERRO\n",
    "tolerancia=0.01\n",
    "\n",
    "#PASSO 7: SETAR O ERRO INICIAL MAIOR QUE A TOLERANCIA\n",
    "erro_medio=tolerancia+1\n",
    "\n",
    "#PASSO 8: CRIAR O VETOR QUE IRA ARMAZENAR O ERRO DE TODAS AS EPOCAS, EPOCA A EPOCA\n",
    "erro_epocas=[]\n",
    "\n",
    "#PASSO 9: INICIALIZA O CONTADOR DE EPOCAS\n",
    "epoca=0\n",
    "\n",
    "#PASSO 10: DEFINE O MAXIMO DE EPOCAS\n",
    "max_epocas=500"
   ]
  },
  {
   "cell_type": "code",
   "execution_count": 9,
   "metadata": {
    "collapsed": true,
    "executionInfo": {
     "elapsed": 90,
     "status": "ok",
     "timestamp": 1759499293022,
     "user": {
      "displayName": "Astronomic Cuts",
      "userId": "07519333501481638317"
     },
     "user_tz": 180
    },
    "id": "mIS0hyUkC2RR"
   },
   "outputs": [],
   "source": [
    "#PASSO 11 E 12: SETA OS CRITERIOS DE PARADA\n",
    "criterio_erro=True\n",
    "criterio_epocas=True\n",
    "\n",
    "#PASSO 13: ENQUANTO O ERRO FOR MAIOR QUE A TOLERANCIA E O MAXIMO DE EPOCAS NAO FOR ATINGIDO, CONTINUE O TREINO\n",
    "while (criterio_erro==True and criterio_epocas==True):\n",
    "  #PASSO 14: SETA O ERRO DA EPOCA ATUAL COM ZERO NO INICIO DE CADA EPOCA\n",
    "  erro_atual=0\n",
    "\n",
    "  #PASSO 15: INCREMENTA O CONTADOR DE EPOCAS PARA SABER EM QUE EPOCA A RNA ESTA TREINANDO\n",
    "  epoca = epoca+1\n",
    "\n",
    "  #PASSO 16: EMBARALHA OS INDICES PARA BUSCAR AMOSTRAS ALEATORIAMENTE NO CONJUNTO X\n",
    "  indices_embaralhados=np.random.permutation(n_amostras)\n",
    "\n",
    "  #PASSO 17: PARA CADA AMOSTRA NO CONJUNTO X FACA\n",
    "  for i in range(n_amostras):\n",
    "    #captura o indice da amostra atual a ser apresentada da RNA\n",
    "    indice_amostra=indices_embaralhados[i]\n",
    "    #captura a amostra atual a ser apresentada a RNA\n",
    "    xi_amostra=x[indice_amostra,:]\n",
    "\n",
    "    #PASSO 18: CALCULA O POTENCIAL DE ATIVACAO U\n",
    "    u=np.dot(w.T,xi_amostra)\n",
    "\n",
    "    #PASSO 19: CALCULA A SAIDA PREVISTA COM BASE NA FUNCAO DE ATIVACAO\n",
    "    yhat=bipolar(u)\n",
    "\n",
    "    #PASSO 20: CALCULA O ERRO ENTRE O VALOR ESPERADO E O VALOR PREVISTO\n",
    "    e=y[indice_amostra]-yhat\n",
    "\n",
    "    #PASSO 21: ATUALIZA OS PESOS APLICANDO A REGRA DE HEBB\n",
    "    w=w+((eta*e)*xi_amostra)\n",
    "\n",
    "    #PASSO 22: ACUMULADOR DE ERROS DE TODAS AS AMOSTRAS\n",
    "    erro_atual=erro_atual+np.abs(e)\n",
    "\n",
    "  #PASSO 23: CALCULA O ERRO MEDIO DA EPOCA\n",
    "  erro_medio=erro_atual/n_amostras\n",
    "\n",
    "  #PASSO 24: ARMAZENA O ERRO MEDIO DA EPOCA ATUAL NO VETOR DE ERROS DE TODAS AS EPOCAS\n",
    "  erro_epocas.append(erro_medio)\n",
    "\n",
    "  #PASSO 25 E 26: VERIFICA E ATUALIZA OS CRITERIOS DE PARADA\n",
    "  criterio_erro=(erro_medio>=tolerancia)\n",
    "  criterio_epocas=(epoca<=max_epocas)"
   ]
  },
  {
   "cell_type": "markdown",
   "metadata": {},
   "source": [
    "## 3. Evolução do erro médio\n",
    "\n",
    "O gráfico de `erro médio x épocas` mostra que o erro diminui ao longo do treinamento, indicando que a RNA está aprendendo a separar as classes e tambem os pesos finais obtidos foram todos válidos como mostrado abaixo\n"
   ]
  },
  {
   "cell_type": "code",
   "execution_count": 20,
   "metadata": {
    "colab": {
     "base_uri": "https://localhost:8080/",
     "height": 411
    },
    "executionInfo": {
     "elapsed": 233,
     "status": "ok",
     "timestamp": 1759499293271,
     "user": {
      "displayName": "Astronomic Cuts",
      "userId": "07519333501481638317"
     },
     "user_tz": 180
    },
    "id": "T9EhuOnOQqcJ",
    "outputId": "e760ceed-35e4-45dc-ccc5-e9459333abc3"
   },
   "outputs": [
    {
     "name": "stdout",
     "output_type": "stream",
     "text": [
      "Conjunto ideal de pesos w*\n",
      "[ 1.07182745  1.85116642 -0.48738003 -2.01629626]\n",
      "Épocas necessárias para convergir\n",
      "107\n"
     ]
    },
    {
     "data": {
      "image/png": "[encoded data removed]",
      "text/plain": [
       "<Figure size 400x400 with 1 Axes>"
      ]
     },
     "metadata": {},
     "output_type": "display_data"
    }
   ],
   "source": [
    "#exibindo os pesos calibrados pela regra de Hebb\n",
    "print('Conjunto ideal de pesos w*')\n",
    "print(w)\n",
    "\n",
    "print('Épocas necessárias para convergir')\n",
    "print(epoca)\n",
    "\n",
    "#plotando a convergencia do algoritmo com base no erro epoca a epoca\n",
    "plt.figure(figsize=(4,4))\n",
    "plt.plot(erro_epocas[:max_epocas])\n",
    "plt.title('Convergência do erro')\n",
    "plt.xlabel('Epocas')\n",
    "plt.ylabel('Erro médio')\n",
    "plt.grid(True)\n",
    "plt.show()"
   ]
  },
  {
   "cell_type": "markdown",
   "metadata": {
    "id": "iZSrcMhFUii4"
   },
   "source": [
    "## ANÁLISE DA QUALIDADE DE CLASSIFICAÇÃO"
   ]
  },
  {
   "cell_type": "markdown",
   "metadata": {},
   "source": [
    "## 4. Qualidade da classificação\n",
    "\n",
    "A matriz de confusão mostra a quantidade de acertos e erros de cada classe e abaixo a acuracia."
   ]
  },
  {
   "cell_type": "code",
   "execution_count": 19,
   "metadata": {
    "colab": {
     "base_uri": "https://localhost:8080/",
     "height": 386
    },
    "executionInfo": {
     "elapsed": 270,
     "status": "ok",
     "timestamp": 1759499939434,
     "user": {
      "displayName": "Astronomic Cuts",
      "userId": "07519333501481638317"
     },
     "user_tz": 180
    },
    "id": "FZAvyQEUUp5_",
    "outputId": "39dff166-2899-4706-9fa2-7a6fe4e5fe03"
   },
   "outputs": [
    {
     "name": "stdout",
     "output_type": "stream",
     "text": [
      "[-1. -1. -1.  1.  1. -1.  1. -1.  1.  1. -1.  1. -1. -1. -1. -1.  1.  1.\n",
      "  1.  1. -1.  1.  1.  1.  1. -1. -1.  1. -1.  1.]\n"
     ]
    },
    {
     "data": {
      "image/png": "[encoded data removed]",
      "text/plain": [
       "<Figure size 400x300 with 2 Axes>"
      ]
     },
     "metadata": {},
     "output_type": "display_data"
    },
    {
     "name": "stdout",
     "output_type": "stream",
     "text": [
      "Acuracia=100.0%\n"
     ]
    },
    {
     "data": {
      "image/png": "[encoded data removed]",
      "text/plain": [
       "<Figure size 400x400 with 1 Axes>"
      ]
     },
     "metadata": {},
     "output_type": "display_data"
    }
   ],
   "source": [
    "#cria um vetor para receber todas as previsoes realizadas pela RNA\n",
    "yhat=np.zeros(n_amostras)\n",
    "\n",
    "#armazenar todas as previsoes uma para cada amostra\n",
    "for i in range(n_amostras):\n",
    "  yhat[i] = previsao(w,x[i,:])\n",
    "print(yhat)\n",
    "\n",
    "#converter -1 em 0 para melhor visualizar a matriz de confusão\n",
    "yhat_display=np.where(yhat==-1,0,yhat)\n",
    "y_display=np.where(y==-1,0,y)\n",
    "\n",
    "#gera a matriz de confusao\n",
    "cm=confusion_matrix(y_display,yhat_display)\n",
    "\n",
    "#plotar matriz de confusao crocante\n",
    "plt.figure(figsize=(4,3))\n",
    "sns.heatmap(cm,annot=True,fmt='d',cmap='Blues',\n",
    "            xticklabels=['Setosa','Versicolor'],\n",
    "            yticklabels=['Setosa','Versicolor'])\n",
    "plt.title('Matriz de confusão')\n",
    "plt.xlabel('Valor real')\n",
    "plt.ylabel('Valor predito')\n",
    "plt.show()\n",
    "\n",
    "#calculo da acuracia\n",
    "acuracia=(np.sum(yhat==y)/n_amostras)*100\n",
    "print(f\"Acuracia={acuracia}%\")\n",
    "\n",
    "#grafico de barras\n",
    "if cm.shape == (2, 2):\n",
    "   resultado = [cm[0, 0], cm[0, 1], cm[1, 1], cm[1, 0]]\n",
    "   labels = ['VV', 'VS', 'SS', 'SV']\n",
    "   colors = ['green', 'red', 'green', 'red']\n",
    "\n",
    "   plt.figure(figsize=(4, 4))\n",
    "   plt.bar(labels, resultado, color=colors)\n",
    "   plt.xlabel('Previsões')\n",
    "   plt.ylabel('Quantidade')\n",
    "   plt.title('Resultado das Classificações')\n",
    "   plt.ylim(0, 20)\n",
    "   for i, v in enumerate(resultado):\n",
    "      plt.text(i, v + 0.2, str(v), ha='center')\n",
    "   plt.show()"
   ]
  },
  {
   "cell_type": "markdown",
   "metadata": {},
   "source": [
    "## 5. Influência dos parâmetros na RNA\n",
    "\n",
    "- **Taxa de aprendizagem (η):** valores menores tornam o aprendizado mais lento; valores muito grandes podem gerar oscilações nos pesos.  \n",
    "- **Número de épocas:** poucas épocas podem impedir a convergência; muitas aumentam o tempo sem melhorar muito a acurácia.  \n",
    "- **Tolerância:** maior tolerância para de treinar cedo; menor tolerância exige mais épocas.  \n",
    "\n",
    "**Conclusão:** Com os parâmetros iniciais (`η=0.01`, `max_epocas=500`, `tolerancia=0.01`) a RNA funcionou bem, não foi necessário mudar nada.\n"
   ]
  },
  {
   "cell_type": "code",
   "execution_count": 15,
   "metadata": {
    "colab": {
     "base_uri": "https://localhost:8080/",
     "height": 617
    },
    "executionInfo": {
     "elapsed": 4241,
     "status": "ok",
     "timestamp": 1759500263742,
     "user": {
      "displayName": "Astronomic Cuts",
      "userId": "07519333501481638317"
     },
     "user_tz": 180
    },
    "id": "T9-Rg266Y0h9",
    "outputId": "9c9e9e0c-e48b-4567-95ef-0b0e993983a5"
   },
   "outputs": [
    {
     "data": {
      "application/vnd.plotly.v1+json": {
       "config": {
        "plotlyServerURL": "https://plot.ly"
       },
       "data": [
        {
         "colorscale": [
          [
           0,
           "rgb(0, 0, 0)"
          ],
          [
           0.09090909090909091,
           "rgb(16, 16, 16)"
          ],
          [
           0.18181818181818182,
           "rgb(38, 38, 38)"
          ],
          [
           0.2727272727272727,
           "rgb(59, 59, 59)"
          ],
          [
           0.36363636363636365,
           "rgb(81, 80, 80)"
          ],
          [
           0.45454545454545453,
           "rgb(102, 101, 101)"
          ],
          [
           0.5454545454545454,
           "rgb(124, 123, 122)"
          ],
          [
           0.6363636363636364,
           "rgb(146, 146, 145)"
          ],
          [
           0.7272727272727273,
           "rgb(171, 171, 170)"
          ],
          [
           0.8181818181818182,
           "rgb(197, 197, 195)"
          ],
          [
           0.9090909090909091,
           "rgb(224, 224, 223)"
          ],
          [
           1,
           "rgb(254, 254, 253)"
          ]
         ],
         "name": "Hiperplano",
         "opacity": 0.3,
         "showscale": false,
         "type": "surface",
         "x": {
          "bdata": "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",
          "dtype": "f8",
          "shape": "20, 20"
         },
         "y": {
          "bdata": "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",
          "dtype": "f8",
          "shape": "20, 20"
         },
         "z": {
          "bdata": "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",
          "dtype": "f8",
          "shape": "20, 20"
         }
        },
        {
         "marker": {
          "color": [
           "red",
           "red",
           "red",
           "blue",
           "blue",
           "red",
           "blue",
           "red",
           "blue",
           "blue",
           "red",
           "blue",
           "red",
           "red",
           "red",
           "red",
           "blue",
           "blue",
           "blue",
           "blue",
           "red",
           "blue",
           "blue",
           "blue",
           "blue",
           "red",
           "red",
           "blue",
           "red",
           "blue"
          ],
          "line": {
           "color": "white",
           "width": 1
          },
          "opacity": 0.8,
          "size": 8
         },
         "mode": "markers",
         "name": "Amostras",
         "type": "scatter3d",
         "x": {
          "bdata": "3pOHhVrT5L+rz9VW7C/3v65H4XoUrgBAkX77OnDO0D9hVFInoInkP+LplbIMcdA/DAIrhxbZ8T/1udqK/WW3P4C3QILix4g/SS7/If32pb8tsp3vp8bbPxsv3SQGgdE/nDOitDf43j/PZtXnaivaPxHHuriNBvc/XrpJDAIr7b9tVn2utmLXP1OWIY51ccs/h6dXyjLEyT/J5T+k377kPz7o2az6XL2/Gy/dJAaB6b8AAAAAAADxvySX/5B+++A/hetRuB6F87+lvcEXJlPZP3S1FfvL7rm/oImw4emVA0DmriXkgx4AQP5D+u3rwMk/",
          "dtype": "f8"
         },
         "y": {
          "bdata": "9wZfmEwVvD/ysFBrmnfsP+JYF7fRAOY/zTtO0ZFc8j9Wn6ut2F/wP/Cnxks3ieU/LSEf9GxW4z/+Q/rt68DVPxniWBe30eA/bef7qfHS3T+WQ4ts5/vlP71SliGOdfA/zojS3uAL3z8PnDOitDfAv/CFyVTBqMQ/NxrAWyBByb/D9Shcj8LwPz81XrpJDOg/L26jAbwF8D8awFsgQfHLP4qw4emVssw/vp8aL90k7D90RpT2Bl/kP6abxCCwcsA/pSxDHOvi6D+WsgxxrIu7P3xhMlUwKuM/qMZLN4lB7j/G3LWEfNDjPxIUP8bctdA/",
          "dtype": "f8"
         },
         "z": {
          "bdata": "/kP67esAEEAnMQisHJoRQDEIrBxaJChAi2zn+6kxH0AkKH6MuSscQLpJDAIrpyBA1zTvOEXHHUC+wRcmU0UcQEmdgCbChhJAQj7o2ay6FUC+MJkqGHUgQIMvTKYKxhxAcT0K16PwHUAZc9cS8gEWQAkbnl4pKyFANs07TtGRAUBTliGOdfEdQJJc/kP6rRxA/Bhz1xIyGkCbVZ+rrZgXQNNNYhBY+RxApgpGJXUCD0BO0ZFc/sMDQOJYF7fRwBZAfPKwUGua+z8ukKD4MaYWQAskKH6MuRxAJQaBlUNrJkDRkVz+Q9olQEMc6+I22hVA",
          "dtype": "f8"
         }
        }
       ],
       "layout": {
        "height": 600,
        "scene": {
         "xaxis": {
          "title": {
           "text": "x1"
          }
         },
         "yaxis": {
          "title": {
           "text": "x2"
          }
         },
         "zaxis": {
          "title": {
           "text": "x3"
          }
         }
        },
        "template": {
         "data": {
          "bar": [
           {
            "error_x": {
             "color": "#2a3f5f"
            },
            "error_y": {
             "color": "#2a3f5f"
            },
            "marker": {
             "line": {
              "color": "#E5ECF6",
              "width": 0.5
             },
             "pattern": {
              "fillmode": "overlay",
              "size": 10,
              "solidity": 0.2
             }
            },
            "type": "bar"
           }
          ],
          "barpolar": [
           {
            "marker": {
             "line": {
              "color": "#E5ECF6",
              "width": 0.5
             },
             "pattern": {
              "fillmode": "overlay",
              "size": 10,
              "solidity": 0.2
             }
            },
            "type": "barpolar"
           }
          ],
          "carpet": [
           {
            "aaxis": {
             "endlinecolor": "#2a3f5f",
             "gridcolor": "white",
             "linecolor": "white",
             "minorgridcolor": "white",
             "startlinecolor": "#2a3f5f"
            },
            "baxis": {
             "endlinecolor": "#2a3f5f",
             "gridcolor": "white",
             "linecolor": "white",
             "minorgridcolor": "white",
             "startlinecolor": "#2a3f5f"
            },
            "type": "carpet"
           }
          ],
          "choropleth": [
           {
            "colorbar": {
             "outlinewidth": 0,
             "ticks": ""
            },
            "type": "choropleth"
           }
          ],
          "contour": [
           {
            "colorbar": {
             "outlinewidth": 0,
             "ticks": ""
            },
            "colorscale": [
             [
              0,
              "#0d0887"
             ],
             [
              0.1111111111111111,
              "#46039f"
             ],
             [
              0.2222222222222222,
              "#7201a8"
             ],
             [
              0.3333333333333333,
              "#9c179e"
             ],
             [
              0.4444444444444444,
              "#bd3786"
             ],
             [
              0.5555555555555556,
              "#d8576b"
             ],
             [
              0.6666666666666666,
              "#ed7953"
             ],
             [
              0.7777777777777778,
              "#fb9f3a"
             ],
             [
              0.8888888888888888,
              "#fdca26"
             ],
             [
              1,
              "#f0f921"
             ]
            ],
            "type": "contour"
           }
          ],
          "contourcarpet": [
           {
            "colorbar": {
             "outlinewidth": 0,
             "ticks": ""
            },
            "type": "contourcarpet"
           }
          ],
          "heatmap": [
           {
            "colorbar": {
             "outlinewidth": 0,
             "ticks": ""
            },
            "colorscale": [
             [
              0,
              "#0d0887"
             ],
             [
              0.1111111111111111,
              "#46039f"
             ],
             [
              0.2222222222222222,
              "#7201a8"
             ],
             [
              0.3333333333333333,
              "#9c179e"
             ],
             [
              0.4444444444444444,
              "#bd3786"
             ],
             [
              0.5555555555555556,
              "#d8576b"
             ],
             [
              0.6666666666666666,
              "#ed7953"
             ],
             [
              0.7777777777777778,
              "#fb9f3a"
             ],
             [
              0.8888888888888888,
              "#fdca26"
             ],
             [
              1,
              "#f0f921"
             ]
            ],
            "type": "heatmap"
           }
          ],
          "histogram": [
           {
            "marker": {
             "pattern": {
              "fillmode": "overlay",
              "size": 10,
              "solidity": 0.2
             }
            },
            "type": "histogram"
           }
          ],
          "histogram2d": [
           {
            "colorbar": {
             "outlinewidth": 0,
             "ticks": ""
            },
            "colorscale": [
             [
              0,
              "#0d0887"
             ],
             [
              0.1111111111111111,
              "#46039f"
             ],
             [
              0.2222222222222222,
              "#7201a8"
             ],
             [
              0.3333333333333333,
              "#9c179e"
             ],
             [
              0.4444444444444444,
              "#bd3786"
             ],
             [
              0.5555555555555556,
              "#d8576b"
             ],
             [
              0.6666666666666666,
              "#ed7953"
             ],
             [
              0.7777777777777778,
              "#fb9f3a"
             ],
             [
              0.8888888888888888,
              "#fdca26"
             ],
             [
              1,
              "#f0f921"
             ]
            ],
            "type": "histogram2d"
           }
          ],
          "histogram2dcontour": [
           {
            "colorbar": {
             "outlinewidth": 0,
             "ticks": ""
            },
            "colorscale": [
             [
              0,
              "#0d0887"
             ],
             [
              0.1111111111111111,
              "#46039f"
             ],
             [
              0.2222222222222222,
              "#7201a8"
             ],
             [
              0.3333333333333333,
              "#9c179e"
             ],
             [
              0.4444444444444444,
              "#bd3786"
             ],
             [
              0.5555555555555556,
              "#d8576b"
             ],
             [
              0.6666666666666666,
              "#ed7953"
             ],
             [
              0.7777777777777778,
              "#fb9f3a"
             ],
             [
              0.8888888888888888,
              "#fdca26"
             ],
             [
              1,
              "#f0f921"
             ]
            ],
            "type": "histogram2dcontour"
           }
          ],
          "mesh3d": [
           {
            "colorbar": {
             "outlinewidth": 0,
             "ticks": ""
            },
            "type": "mesh3d"
           }
          ],
          "parcoords": [
           {
            "line": {
             "colorbar": {
              "outlinewidth": 0,
              "ticks": ""
             }
            },
            "type": "parcoords"
           }
          ],
          "pie": [
           {
            "automargin": true,
            "type": "pie"
           }
          ],
          "scatter": [
           {
            "fillpattern": {
             "fillmode": "overlay",
             "size": 10,
             "solidity": 0.2
            },
            "type": "scatter"
           }
          ],
          "scatter3d": [
           {
            "line": {
             "colorbar": {
              "outlinewidth": 0,
              "ticks": ""
             }
            },
            "marker": {
             "colorbar": {
              "outlinewidth": 0,
              "ticks": ""
             }
            },
            "type": "scatter3d"
           }
          ],
          "scattercarpet": [
           {
            "marker": {
             "colorbar": {
              "outlinewidth": 0,
              "ticks": ""
             }
            },
            "type": "scattercarpet"
           }
          ],
          "scattergeo": [
           {
            "marker": {
             "colorbar": {
              "outlinewidth": 0,
              "ticks": ""
             }
            },
            "type": "scattergeo"
           }
          ],
          "scattergl": [
           {
            "marker": {
             "colorbar": {
              "outlinewidth": 0,
              "ticks": ""
             }
            },
            "type": "scattergl"
           }
          ],
          "scattermap": [
           {
            "marker": {
             "colorbar": {
              "outlinewidth": 0,
              "ticks": ""
             }
            },
            "type": "scattermap"
           }
          ],
          "scattermapbox": [
           {
            "marker": {
             "colorbar": {
              "outlinewidth": 0,
              "ticks": ""
             }
            },
            "type": "scattermapbox"
           }
          ],
          "scatterpolar": [
           {
            "marker": {
             "colorbar": {
              "outlinewidth": 0,
              "ticks": ""
             }
            },
            "type": "scatterpolar"
           }
          ],
          "scatterpolargl": [
           {
            "marker": {
             "colorbar": {
              "outlinewidth": 0,
              "ticks": ""
             }
            },
            "type": "scatterpolargl"
           }
          ],
          "scatterternary": [
           {
            "marker": {
             "colorbar": {
              "outlinewidth": 0,
              "ticks": ""
             }
            },
            "type": "scatterternary"
           }
          ],
          "surface": [
           {
            "colorbar": {
             "outlinewidth": 0,
             "ticks": ""
            },
            "colorscale": [
             [
              0,
              "#0d0887"
             ],
             [
              0.1111111111111111,
              "#46039f"
             ],
             [
              0.2222222222222222,
              "#7201a8"
             ],
             [
              0.3333333333333333,
              "#9c179e"
             ],
             [
              0.4444444444444444,
              "#bd3786"
             ],
             [
              0.5555555555555556,
              "#d8576b"
             ],
             [
              0.6666666666666666,
              "#ed7953"
             ],
             [
              0.7777777777777778,
              "#fb9f3a"
             ],
             [
              0.8888888888888888,
              "#fdca26"
             ],
             [
              1,
              "#f0f921"
             ]
            ],
            "type": "surface"
           }
          ],
          "table": [
           {
            "cells": {
             "fill": {
              "color": "#EBF0F8"
             },
             "line": {
              "color": "white"
             }
            },
            "header": {
             "fill": {
              "color": "#C8D4E3"
             },
             "line": {
              "color": "white"
             }
            },
            "type": "table"
           }
          ]
         },
         "layout": {
          "annotationdefaults": {
           "arrowcolor": "#2a3f5f",
           "arrowhead": 0,
           "arrowwidth": 1
          },
          "autotypenumbers": "strict",
          "coloraxis": {
           "colorbar": {
            "outlinewidth": 0,
            "ticks": ""
           }
          },
          "colorscale": {
           "diverging": [
            [
             0,
             "#8e0152"
            ],
            [
             0.1,
             "#c51b7d"
            ],
            [
             0.2,
             "#de77ae"
            ],
            [
             0.3,
             "#f1b6da"
            ],
            [
             0.4,
             "#fde0ef"
            ],
            [
             0.5,
             "#f7f7f7"
            ],
            [
             0.6,
             "#e6f5d0"
            ],
            [
             0.7,
             "#b8e186"
            ],
            [
             0.8,
             "#7fbc41"
            ],
            [
             0.9,
             "#4d9221"
            ],
            [
             1,
             "#276419"
            ]
           ],
           "sequential": [
            [
             0,
             "#0d0887"
            ],
            [
             0.1111111111111111,
             "#46039f"
            ],
            [
             0.2222222222222222,
             "#7201a8"
            ],
            [
             0.3333333333333333,
             "#9c179e"
            ],
            [
             0.4444444444444444,
             "#bd3786"
            ],
            [
             0.5555555555555556,
             "#d8576b"
            ],
            [
             0.6666666666666666,
             "#ed7953"
            ],
            [
             0.7777777777777778,
             "#fb9f3a"
            ],
            [
             0.8888888888888888,
             "#fdca26"
            ],
            [
             1,
             "#f0f921"
            ]
           ],
           "sequentialminus": [
            [
             0,
             "#0d0887"
            ],
            [
             0.1111111111111111,
             "#46039f"
            ],
            [
             0.2222222222222222,
             "#7201a8"
            ],
            [
             0.3333333333333333,
             "#9c179e"
            ],
            [
             0.4444444444444444,
             "#bd3786"
            ],
            [
             0.5555555555555556,
             "#d8576b"
            ],
            [
             0.6666666666666666,
             "#ed7953"
            ],
            [
             0.7777777777777778,
             "#fb9f3a"
            ],
            [
             0.8888888888888888,
             "#fdca26"
            ],
            [
             1,
             "#f0f921"
            ]
           ]
          },
          "colorway": [
           "#636efa",
           "#EF553B",
           "#00cc96",
           "#ab63fa",
           "#FFA15A",
           "#19d3f3",
           "#FF6692",
           "#B6E880",
           "#FF97FF",
           "#FECB52"
          ],
          "font": {
           "color": "#2a3f5f"
          },
          "geo": {
           "bgcolor": "white",
           "lakecolor": "white",
           "landcolor": "#E5ECF6",
           "showlakes": true,
           "showland": true,
           "subunitcolor": "white"
          },
          "hoverlabel": {
           "align": "left"
          },
          "hovermode": "closest",
          "mapbox": {
           "style": "light"
          },
          "paper_bgcolor": "white",
          "plot_bgcolor": "#E5ECF6",
          "polar": {
           "angularaxis": {
            "gridcolor": "white",
            "linecolor": "white",
            "ticks": ""
           },
           "bgcolor": "#E5ECF6",
           "radialaxis": {
            "gridcolor": "white",
            "linecolor": "white",
            "ticks": ""
           }
          },
          "scene": {
           "xaxis": {
            "backgroundcolor": "#E5ECF6",
            "gridcolor": "white",
            "gridwidth": 2,
            "linecolor": "white",
            "showbackground": true,
            "ticks": "",
            "zerolinecolor": "white"
           },
           "yaxis": {
            "backgroundcolor": "#E5ECF6",
            "gridcolor": "white",
            "gridwidth": 2,
            "linecolor": "white",
            "showbackground": true,
            "ticks": "",
            "zerolinecolor": "white"
           },
           "zaxis": {
            "backgroundcolor": "#E5ECF6",
            "gridcolor": "white",
            "gridwidth": 2,
            "linecolor": "white",
            "showbackground": true,
            "ticks": "",
            "zerolinecolor": "white"
           }
          },
          "shapedefaults": {
           "line": {
            "color": "#2a3f5f"
           }
          },
          "ternary": {
           "aaxis": {
            "gridcolor": "white",
            "linecolor": "white",
            "ticks": ""
           },
           "baxis": {
            "gridcolor": "white",
            "linecolor": "white",
            "ticks": ""
           },
           "bgcolor": "#E5ECF6",
           "caxis": {
            "gridcolor": "white",
            "linecolor": "white",
            "ticks": ""
           }
          },
          "title": {
           "x": 0.05
          },
          "xaxis": {
           "automargin": true,
           "gridcolor": "white",
           "linecolor": "white",
           "ticks": "",
           "title": {
            "standoff": 15
           },
           "zerolinecolor": "white",
           "zerolinewidth": 2
          },
          "yaxis": {
           "automargin": true,
           "gridcolor": "white",
           "linecolor": "white",
           "ticks": "",
           "title": {
            "standoff": 15
           },
           "zerolinecolor": "white",
           "zerolinewidth": 2
          }
         }
        },
        "title": {
         "text": "Classificação"
        },
        "width": 800
       }
      }
     },
     "metadata": {},
     "output_type": "display_data"
    }
   ],
   "source": [
    "#criar grafico 3d interativo\n",
    "colors = ['red' if y == -1 else 'blue' for y in yhat]\n",
    "\n",
    "#criar malha para o hiperplano\n",
    "x1_range = np.linspace(x[:, 0].min() - 0.5, x[:, 0].max() + 0.5, 20)\n",
    "x2_range = np.linspace(x[:, 1].min() - 0.5, x[:, 1].max() + 0.5, 20)\n",
    "x1_grid, x2_grid = np.meshgrid(x1_range, x2_range)\n",
    "\n",
    "#calcular x3 para o hiperplano: w0*x1 + w1*x2 + w2*x3 + w3*(-1) = 0\n",
    "#x3 = (w0*x1 + w1*x2 - w3) / (-w2)\n",
    "x3_grid = (w[0] * x1_grid + w[1] * x2_grid - w[3]) / (-w[2])\n",
    "\n",
    "fig = go.Figure()\n",
    "\n",
    "#adicionar o hiperplano\n",
    "fig.add_trace(go.Surface(\n",
    "   x=x1_grid,\n",
    "   y=x2_grid,\n",
    "   z=x3_grid,\n",
    "   colorscale='gray',\n",
    "   opacity=0.3,\n",
    "   showscale=False,\n",
    "   name='Hiperplano'\n",
    "))\n",
    "\n",
    "#adicionar os pontos\n",
    "fig.add_trace(go.Scatter3d(\n",
    "   x=x[:, 0],\n",
    "   y=x[:, 1],\n",
    "   z=x[:, 2],\n",
    "   mode='markers',\n",
    "   marker=dict(\n",
    "      size=8,\n",
    "      color=colors,\n",
    "      opacity=0.8,\n",
    "      line=dict(width=1, color='white')\n",
    "   ),\n",
    "   name='Amostras'\n",
    "))\n",
    "\n",
    "fig.update_layout(\n",
    "   title='Classificação',\n",
    "   scene=dict(\n",
    "      xaxis_title='x1',\n",
    "      yaxis_title='x2',\n",
    "      zaxis_title='x3'\n",
    "   ),\n",
    "   width=800,\n",
    "   height=600\n",
    ")"
   ]
  },
  {
   "cell_type": "markdown",
   "metadata": {},
   "source": [
    "## 7. Conclusões\n",
    "\n",
    "A RNA conseguiu classificar corretamente a maioria das amostras, com boa acurácia.  \n",
    "O erro médio diminuiu ao longo das épocas e os pesos se mantiveram estáveis.  \n",
    "Os parâmetros iniciais foram suficientes para o modelo funcionar sem ajustes.\n"
   ]
  }
 ],
 "metadata": {
  "colab": {
   "authorship_tag": "ABX9TyMTLPmIVjCWuQmz2AqWjA1v",
   "provenance": []
  },
  "kernelspec": {
   "display_name": "Python 3",
   "name": "python3"
  },
  "language_info": {
   "codemirror_mode": {
    "name": "ipython",
    "version": 3
   },
   "file_extension": ".py",
   "mimetype": "text/x-python",
   "name": "python",
   "nbconvert_exporter": "python",
   "pygments_lexer": "ipython3",
   "version": "3.11.9"
  }
 },
 "nbformat": 4,
 "nbformat_minor": 0
}
